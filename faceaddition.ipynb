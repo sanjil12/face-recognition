{
 "cells": [
  {
   "cell_type": "code",
   "execution_count": 4,
   "metadata": {},
   "outputs": [
    {
     "name": "stdout",
     "output_type": "stream",
     "text": [
      "enter the name of the Personsir\n",
      "1\n",
      "2\n",
      "3\n",
      "4\n",
      "5\n",
      "6\n",
      "7\n",
      "8\n",
      "9\n",
      "10\n",
      "11\n",
      "12\n",
      "13\n",
      "14\n",
      "15\n",
      "16\n",
      "17\n",
      "18\n",
      "19\n",
      "20\n",
      "21\n",
      "22\n",
      "23\n",
      "24\n",
      "25\n",
      "26\n",
      "27\n",
      "28\n",
      "29\n",
      "30\n",
      "31\n",
      "32\n",
      "(32, 30000)\n",
      "Data Successfully saved at ./sample_data/sir.npy\n"
     ]
    }
   ],
   "source": [
    "import cv2\n",
    "import numpy as np\n",
    "cap=cv2.VideoCapture(0)\n",
    "\n",
    "face_cascade=cv2.CascadeClassifier(r'C:\\Users\\sanjil\\Desktop\\New folder\\knn\\third-party\\frontalFace10\\haarcascade_frontalface_default.xml')\n",
    "skip=0\n",
    "face_data=[]\n",
    "face_section=[]\n",
    "dataset_path='./sample_data/'\n",
    "fileName=input(\"enter the name of the Person\")\n",
    "while True:\n",
    "\tret,frame=cap.read()\n",
    "\tif ret==False:\n",
    " \t\tcontinue\n",
    "\tgray_frame=cv2.cvtColor(frame,cv2.COLOR_BGR2GRAY)\n",
    "\tfaces=face_cascade.detectMultiScale(frame,1.3,5)\n",
    "\tfaces=sorted(faces,key=lambda f:f[2]*f[3])\n",
    "\tfor (x,y,w,h) in faces[-1:]:\n",
    "\t\tcv2.rectangle(frame,(x,y),(x+w,y+h),(0,255,255),2)\n",
    "\t\t# crop out the required face : Region Of Interest\n",
    "\t\toffset=10\n",
    "\t\tface_section=frame[y-offset:y+h+offset,x-offset:x+w+offset]\n",
    "\t\tface_section=cv2.resize(face_section,(100,100))\n",
    "\t\tface_section=np.array(face_section)\n",
    "\t\t#mat_array = cv.fromarray(face_section)\n",
    "\t\tskip+=1\n",
    "\t\tif skip%10==0:\n",
    "\t\t\tface_data.append(face_section)\n",
    "\t\t\tprint(len(face_data))\n",
    "\tcv2.imshow(\"Frame\",frame)\n",
    "\t#cv2.imshow(\"Face_section\",face_section)\n",
    "\tkey_pressed=cv2.waitKey(1) & 0xFF\n",
    "\tif key_pressed==ord('q'):\n",
    " \t\tbreak\n",
    "# convert our face_list into numpy array\n",
    "face_data=np.asarray(face_data)\n",
    "face_data=face_data.reshape((face_data.shape[0],-1))\n",
    "print(face_data.shape)\n",
    "# save into file system\n",
    "np.save(dataset_path+fileName+'.npy',face_data)\n",
    "print('Data Successfully saved at',dataset_path+fileName+'.npy')\n",
    "\n",
    "cap.release()\n",
    "cv2.destroyAllWindows()"
   ]
  },
  {
   "cell_type": "code",
   "execution_count": null,
   "metadata": {},
   "outputs": [],
   "source": []
  }
 ],
 "metadata": {
  "kernelspec": {
   "display_name": "Python 3",
   "language": "python",
   "name": "python3"
  },
  "language_info": {
   "codemirror_mode": {
    "name": "ipython",
    "version": 3
   },
   "file_extension": ".py",
   "mimetype": "text/x-python",
   "name": "python",
   "nbconvert_exporter": "python",
   "pygments_lexer": "ipython3",
   "version": "3.7.3"
  }
 },
 "nbformat": 4,
 "nbformat_minor": 2
}
